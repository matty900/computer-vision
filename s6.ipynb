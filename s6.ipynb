{
 "cells": [
  {
   "cell_type": "code",
   "execution_count": null,
   "metadata": {},
   "outputs": [],
   "source": [
    "'''\n",
    "Reszing\n",
    "'''"
   ]
  },
  {
   "cell_type": "markdown",
   "metadata": {},
   "source": [
    "Behind the scene of rotation in photos:\n",
    "matrix operation applied \n",
    "For resizing: either pixels are created, or some pixels are removed\n"
   ]
  },
  {
   "cell_type": "code",
   "execution_count": null,
   "metadata": {},
   "outputs": [],
   "source": [
    "'''\n",
    "Techniques used to reduce the size of image files (RISIZING):\n",
    "DOWNSAMPLING: decreasing the number of pixels in the image => decrease quality \n",
    "UMSAMPLING: increasing the number of pixels in an image. => improve image qualiy \n",
    "Methods(algorithm) for Resizing:\n",
    "Area interpolation , Bilinear interpolation, Nearest-neighbor interpolation, Bicubic interpolation, Lanczos interpolation\n",
    "\n",
    "P.S: COMPRESSING: Reduces file size without necessarily changing resolution\n",
    "'''"
   ]
  },
  {
   "cell_type": "code",
   "execution_count": 2,
   "metadata": {},
   "outputs": [],
   "source": [
    "import cv2"
   ]
  },
  {
   "cell_type": "code",
   "execution_count": null,
   "metadata": {},
   "outputs": [],
   "source": [
    "'''\n",
    "Nearest Neighbor - Max Choice (upsampling)\n",
    "selects the value of the nearest pixel from the original image and assigns it to the corresponding pixel in the resized image\n",
    "N=1 means only the nearest 1 neighbour. Algorithm chose prioritzing for left, top, right, bottom from the ORIGINAL value pixel\n",
    "        if it was N=10 was looking for 10 nearest neghbour \n",
    "'''\n",
    "cv2.resize(cv2.INTER_NEAREST)  \n",
    "        \n",
    "image = cv2.imread('Pic.jpeg')\n",
    "reized_image = cv2.resize(image, (image.shape[1]*3, image.shape[0]*3 ), interpolation=cv2.INTER_NEAREST)\n",
    "cv2.imwrite('pic_reiszed.png',reized_image)\n",
    "cv2.imshow('pic_resized',reized_image)\n",
    "cv2.waitKey(0)\n",
    "cv2.destroyAllWindows()"
   ]
  },
  {
   "cell_type": "code",
   "execution_count": null,
   "metadata": {},
   "outputs": [],
   "source": [
    "'''\n",
    "Nearest Neighbor algorithm- Averaging\n",
    "average of the two closest : refer to the power point slides\n",
    "for instance if two nearest are 180 and 255 it woudld be 180 + 255/2= 217.5  \n",
    "pixel values for the matrix are unisined integers  so it rounds to 217 (unsinged means cannot have negative values)\n",
    "'''"
   ]
  },
  {
   "cell_type": "code",
   "execution_count": null,
   "metadata": {},
   "outputs": [],
   "source": [
    "'''\n",
    "Area Interpolation\n",
    "result is exactly nearest neighbor max choice for UPSAMPLING . but for downsampling the result is different\n",
    "'''\n",
    "image = cv2.imread('Pic.jpeg')\n",
    "reized_image = cv2.resize(image, (image.shape[1]*3, image.shape[0]*3 ), interpolation=cv2.INTER_AREA)\n",
    "cv2.imwrite('pic_reiszed.png',reized_image)\n",
    "cv2.imshow('pic_resized',reized_image)\n",
    "cv2.waitKey(0)\n",
    "cv2.destroyAllWindows()"
   ]
  },
  {
   "cell_type": "code",
   "execution_count": null,
   "metadata": {},
   "outputs": [],
   "source": [
    "'''\n",
    "Bilinear Interpolation\n",
    "affect and other terminagoly could be find in the lecture\n",
    "round[(affect of closest * value of closest) + (affect of farer * value of farer)] = round[(result closest + result farer) ] = answer \n",
    "'''"
   ]
  }
 ],
 "metadata": {
  "kernelspec": {
   "display_name": "virtualEnvPractice",
   "language": "python",
   "name": "python3"
  },
  "language_info": {
   "codemirror_mode": {
    "name": "ipython",
    "version": 3
   },
   "file_extension": ".py",
   "mimetype": "text/x-python",
   "name": "python",
   "nbconvert_exporter": "python",
   "pygments_lexer": "ipython3",
   "version": "3.10.0"
  }
 },
 "nbformat": 4,
 "nbformat_minor": 2
}
