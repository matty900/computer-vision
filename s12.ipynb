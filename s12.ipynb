{
 "cells": [
  {
   "cell_type": "markdown",
   "metadata": {},
   "source": [
    "\n",
    " # Type of Data:\n",
    "structured: CSV, Sql, Excel ...\n",
    "unstructued: images, video, audio...\n",
    "If data cannot be stored in a tabluar format it's unstructured like images\n",
    "'''"
   ]
  },
  {
   "cell_type": "code",
   "execution_count": 2,
   "metadata": {},
   "outputs": [],
   "source": [
    "import pandas as pd"
   ]
  },
  {
   "cell_type": "markdown",
   "metadata": {},
   "source": [
    "## Machine leanring, Neural networkds, Deep learning:\n",
    "#### neural networks provide the framework, deep learning utilizes deep neural networks, and machine learning is the overall field of algorithms that learn from data."
   ]
  },
  {
   "cell_type": "markdown",
   "metadata": {},
   "source": [
    "* Supervised machine learning the we use an algorithm to label the data base on already deinfed lables\n",
    "\n",
    "GOAL: To predict outcomes for new, unseen data based on the learned relationships   \n",
    "Examples: Predicting whether an email is spam (classification) or predicting the price of a house (regression).   \n",
    "Applications: Image classification    Spam detection    Weather forecasting    Risk assessment      \n",
    "\n",
    "\n",
    "\n",
    "* Unsupervised machine learning there is no label, so the algorithm help to differnciate the data into clusters\n",
    "\n",
    "GOAL: To discover hidden patterns, relationships, and structures within the data.  \n",
    "Examples: Grouping customers with similar purchasing behavior (clustering) or identifying anomalies in data  \n",
    "Applications: Customer segmentation    Anomaly detection    Recommendation systems    Data visualization  \n",
    "\n",
    "* Reinforcement Learning (RL): RL involves an \"agent\" that learns by interacting with an \"environment.\"  \n",
    "\n",
    "GOAL: To learn optimal behavior in an environment.  \n",
    "Applications: Gaming (e.g., training AI to play chess or Go)    Robotics (e.g., teaching robots to navigate and perform tasks)    Autonomous driving    Resource managemen\n",
    "\n",
    "### SUMMARY \n",
    "\n",
    "Supervised learning: Learning from labeled examples  \n",
    "Unsupervised learning: Discovering patterns in unlabeled data    \n",
    "Reinforcement learning: Learning through interaction and feedback in an environment.\n",
    "\n",
    " \n",
    "\n",
    "\n"
   ]
  }
 ],
 "metadata": {
  "kernelspec": {
   "display_name": "virtualEnvPractice",
   "language": "python",
   "name": "python3"
  },
  "language_info": {
   "codemirror_mode": {
    "name": "ipython",
    "version": 3
   },
   "file_extension": ".py",
   "mimetype": "text/x-python",
   "name": "python",
   "nbconvert_exporter": "python",
   "pygments_lexer": "ipython3",
   "version": "3.10.0"
  }
 },
 "nbformat": 4,
 "nbformat_minor": 2
}
