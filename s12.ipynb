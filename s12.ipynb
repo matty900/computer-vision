{
 "cells": [
  {
   "cell_type": "markdown",
   "metadata": {},
   "source": [
    "\n",
    " # Type of Data:\n",
    "structured: CSV, Sql, Excel ...\n",
    "unstructued: images, video, audio...\n",
    "If data cannot be stored in a tabluar format it's unstructured like images\n",
    "'''"
   ]
  },
  {
   "cell_type": "code",
   "execution_count": 2,
   "metadata": {},
   "outputs": [],
   "source": [
    "import pandas as pd"
   ]
  },
  {
   "cell_type": "markdown",
   "metadata": {},
   "source": [
    "## Machine leanring, Neural networkds, Deep learning:\n",
    "#### neural networks provide the framework, deep learning utilizes deep neural networks, and machine learning is the overall field of algorithms that learn from data."
   ]
  },
  {
   "cell_type": "markdown",
   "metadata": {},
   "source": [
    "In supervised machine learning the we use an algorithm to label the data base on already deinfed lables  \n",
    "\n",
    "In Unsupervised machine learning there is no label, so the algorithm help to differnciate the data into clusters"
   ]
  }
 ],
 "metadata": {
  "kernelspec": {
   "display_name": "virtualEnvPractice",
   "language": "python",
   "name": "python3"
  },
  "language_info": {
   "codemirror_mode": {
    "name": "ipython",
    "version": 3
   },
   "file_extension": ".py",
   "mimetype": "text/x-python",
   "name": "python",
   "nbconvert_exporter": "python",
   "pygments_lexer": "ipython3",
   "version": "3.10.0"
  }
 },
 "nbformat": 4,
 "nbformat_minor": 2
}
