{
 "cells": [
  {
   "cell_type": "code",
   "execution_count": 9,
   "metadata": {},
   "outputs": [
    {
     "name": "stderr",
     "output_type": "stream",
     "text": [
      "Matplotlib is building the font cache; this may take a moment.\n"
     ]
    }
   ],
   "source": [
    "import cv2\n",
    "import numpy as np\n",
    "import matplotlib.pyplot as plt"
   ]
  },
  {
   "cell_type": "markdown",
   "metadata": {},
   "source": [
    "BGR  [0, 1 , 2]"
   ]
  },
  {
   "cell_type": "code",
   "execution_count": 2,
   "metadata": {},
   "outputs": [
    {
     "name": "stdout",
     "output_type": "stream",
     "text": [
      "image shape: (576, 576, 3)\n"
     ]
    },
    {
     "data": {
      "text/plain": [
       "np.uint8(255)"
      ]
     },
     "execution_count": 2,
     "metadata": {},
     "output_type": "execute_result"
    }
   ],
   "source": [
    "image = cv2.imread(\"Pic.jpeg\")\n",
    "if image is None:   # hving if condition for times image not properly loaded\n",
    "              print(\"ERROR\")\n",
    "print(f\"image shape: {image.shape}\")\n",
    "img_red = image[:,:,2]  # img_red has the red channel \n",
    "\n",
    "# max  = 0 \n",
    "# for i in range(img_red.shape[0]):\n",
    "#               for j in range(img_red.shape[1]):\n",
    "#                       if img_red[i][j] > max:\n",
    "#                               max  = img_red[i][j]\n",
    "# print(max) # print 255 which is white color in the image\n",
    "\n",
    "\n",
    "image[:,:,2].max()  # work as above instead of the loop above\n",
    "\n",
    "# O(n^2)\n",
    "\n"
   ]
  },
  {
   "cell_type": "markdown",
   "metadata": {},
   "source": [
    "Array 1D array : Vector (4,) \n"
   ]
  },
  {
   "cell_type": "markdown",
   "metadata": {},
   "source": [
    "Array 2D array : Matrix (2,3)\n"
   ]
  },
  {
   "cell_type": "markdown",
   "metadata": {},
   "source": [
    "Array 3d array : Tensor  (2,3,4)"
   ]
  },
  {
   "cell_type": "code",
   "execution_count": 6,
   "metadata": {},
   "outputs": [
    {
     "data": {
      "text/plain": [
       "-1"
      ]
     },
     "execution_count": 6,
     "metadata": {},
     "output_type": "execute_result"
    },
    {
     "ename": "",
     "evalue": "",
     "output_type": "error",
     "traceback": [
      "\u001b[1;31mThe Kernel crashed while executing code in the current cell or a previous cell. \n",
      "\u001b[1;31mPlease review the code in the cell(s) to identify a possible cause of the failure. \n",
      "\u001b[1;31mClick <a href='https://aka.ms/vscodeJupyterKernelCrash'>here</a> for more info. \n",
      "\u001b[1;31mView Jupyter <a href='command:jupyter.viewOutput'>log</a> for further details."
     ]
    }
   ],
   "source": [
    "# ROI : image cropping with slicing technique\n",
    "roi = image[100:500, 200:800]\n",
    "cv2.imshow(\"Region\",roi)\n",
    "cv2.waitKey(200)"
   ]
  },
  {
   "cell_type": "code",
   "execution_count": null,
   "metadata": {},
   "outputs": [],
   "source": [
    "# ROI : image cropping with SLICING technique\n",
    "roi = image[100:500:2, 200:800:2]  # only the odd pixels because of :2 at the end\n",
    "cv2.imshow(\"Region\",roi)\n",
    "cv2.waitKey(200)"
   ]
  },
  {
   "cell_type": "code",
   "execution_count": null,
   "metadata": {},
   "outputs": [],
   "source": [
    "# CROPPNIG one piece and paste it somewhere else (This is manual and old way)\n",
    "image [50:400, 100:300] = image[100:200, 200:400]  # only the odd pixels because of :2 at the end\n",
    "cv2.imshow(\"Region\",image)\n",
    "cv2.waitKey(200)"
   ]
  },
  {
   "cell_type": "code",
   "execution_count": 4,
   "metadata": {},
   "outputs": [
    {
     "data": {
      "text/plain": [
       "-1"
      ]
     },
     "execution_count": 4,
     "metadata": {},
     "output_type": "execute_result"
    }
   ],
   "source": [
    "# SPLIT & MERGE  useful for sonography because they are many layers, we can split , manipluate , and merge them\n",
    "b,g,r = cv2.split(image)\n",
    "# b.shape  give (576, 576) the image is gray becasue we don't have third dimensons or color chanel\n",
    "# g.shape  same dimension as b \n",
    "image_RGB= cv2.merge((b,g,r))\n",
    "cv2.imshow(\"Region\",image_RGB)\n",
    "cv2.waitKey(50)"
   ]
  },
  {
   "cell_type": "code",
   "execution_count": 7,
   "metadata": {},
   "outputs": [
    {
     "data": {
      "text/plain": [
       "(576, 576, 3)"
      ]
     },
     "execution_count": 7,
     "metadata": {},
     "output_type": "execute_result"
    }
   ],
   "source": [
    "image.shape"
   ]
  },
  {
   "cell_type": "code",
   "execution_count": 8,
   "metadata": {},
   "outputs": [
    {
     "data": {
      "text/plain": [
       "(596, 616, 3)"
      ]
     },
     "execution_count": 8,
     "metadata": {},
     "output_type": "execute_result"
    }
   ],
   "source": [
    "# PADDING    (when strat writing from scratch markdwon shows dimensions reasons)\n",
    "# BORDER_CONSTANT , BORDER_REFLECT , BORDER_DEFAULT , BORDER_REPLICATE , BORDER_WRAP\n",
    "paddng_img = cv2.copyMakeBorder(image,10,10,20,20,cv2.BORDER_CONSTANT,value=[0,0,0])\n",
    "paddng_img2 = cv2.copyMakeBorder(image,10,10,20,20,cv2.BORDER_REFLECT,value=[0,0,0])\n",
    "paddng_img3 = cv2.copyMakeBorder(image,10,10,20,20,cv2.BORDER_REPLICATE,value=[0,0,0])\n",
    "paddng_img4 = cv2.copyMakeBorder(image,10,10,20,20,cv2.BORDER_CONSTANT,value=[25,120,0])\n",
    "paddng_img.shape    # dimensions increased because added padding"
   ]
  },
  {
   "cell_type": "code",
   "execution_count": null,
   "metadata": {},
   "outputs": [],
   "source": [
    "# CONVERT CHANNNELS    (developers keep track of region of color interesst)\n",
    "image_RGB2 = cv2.cvtColor(image, cv2.COLOR_BGR2RGB)\n",
    "r, g, b = image_RGB2.split()\n",
    "image_BGR = cv2.merge((b, g, r))\n",
    "cv2.imshow(\"region of interest\",image_BGR)\n",
    "cv2.waitKey(50)\n",
    "#  Most useful\n",
    "# COLOR_BGR2RGB\n",
    "# COLOR_RGB2BGR"
   ]
  },
  {
   "cell_type": "code",
   "execution_count": null,
   "metadata": {},
   "outputs": [],
   "source": []
  }
 ],
 "metadata": {
  "kernelspec": {
   "display_name": "Python virtualEnvPractice",
   "language": "python",
   "name": "virtualenvpractice"
  },
  "language_info": {
   "codemirror_mode": {
    "name": "ipython",
    "version": 3
   },
   "file_extension": ".py",
   "mimetype": "text/x-python",
   "name": "python",
   "nbconvert_exporter": "python",
   "pygments_lexer": "ipython3",
   "version": "3.10.0rc2"
  }
 },
 "nbformat": 4,
 "nbformat_minor": 2
}
