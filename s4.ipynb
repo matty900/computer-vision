{
 "cells": [
  {
   "cell_type": "code",
   "execution_count": 2,
   "metadata": {},
   "outputs": [],
   "source": [
    "import cv2\n",
    "import numpy as np"
   ]
  },
  {
   "cell_type": "markdown",
   "metadata": {},
   "source": [
    "VIDEO & FPS"
   ]
  },
  {
   "cell_type": "code",
   "execution_count": 3,
   "metadata": {},
   "outputs": [],
   "source": [
    "cap = cv2.VideoCapture(\"city.mp4\")  # cv2.VideoCapture(\"city.mp4\") capture a video in a location in memory\n",
    "# cap = cv2.VideoCapture(0)\n",
    "# In one of the project(detect facial expression with CV2) to capture from webcam =>"
   ]
  },
  {
   "cell_type": "code",
   "execution_count": 4,
   "metadata": {},
   "outputs": [
    {
     "data": {
      "text/plain": [
       "(1080, 1920, 3)"
      ]
     },
     "execution_count": 4,
     "metadata": {},
     "output_type": "execute_result"
    }
   ],
   "source": [
    "ret, frame = cap.read()  # ret is says it was succesful to read the image or not\n",
    "frame.shape"
   ]
  },
  {
   "cell_type": "code",
   "execution_count": 5,
   "metadata": {},
   "outputs": [],
   "source": [
    "original_fps = int(cap.get(cv2.CAP_PROP_FPS)) # 29 frames per second\n",
    "desired_fps = int(original_fps / 10 )  # by dividing we say 10 times lower frames in a second to be rendered"
   ]
  },
  {
   "cell_type": "code",
   "execution_count": null,
   "metadata": {},
   "outputs": [],
   "source": [
    "# TO RUN VIDOES \n",
    "# FPS frame per second -> having more frames per seconds means more quality for vidoes\n",
    "f = 0\n",
    "while True:\n",
    "        ret, frame = cap.read()\n",
    "\n",
    "        if frame is None:\n",
    "               break\n",
    "\n",
    "        frame = cv2.resize(frame,(500,300))                             \n",
    "        \n",
    "        if f % desired_fps == 0:  # we reading every second frame \n",
    "                cv2.imshow('frame',frame)\n",
    "                # cv2.waitKey(0)\n",
    "                if cv2.waitKey(1) == ord('q'):  # speed of rendering with waitKey. Like set to waitKey(0) it plays with pressing q  . but set to watKey(1) plays in original speed\n",
    "                        break\n",
    "        f += 1\n",
    "\n",
    "cap.release()\n",
    "cv2.waitKey(1)\n",
    "cv2.destroyAllWindows()\n",
    "                            "
   ]
  },
  {
   "cell_type": "markdown",
   "metadata": {},
   "source": [
    "DRAWING SHAPES (we barely use shapes)"
   ]
  },
  {
   "cell_type": "code",
   "execution_count": 3,
   "metadata": {},
   "outputs": [
    {
     "data": {
      "text/plain": [
       "array([[0, 0, 0, ..., 0, 0, 0],\n",
       "       [0, 0, 0, ..., 0, 0, 0],\n",
       "       [0, 0, 0, ..., 0, 0, 0],\n",
       "       ...,\n",
       "       [0, 0, 0, ..., 0, 0, 0],\n",
       "       [0, 0, 0, ..., 0, 0, 0],\n",
       "       [0, 0, 0, ..., 0, 0, 0]], shape=(400, 400), dtype=uint8)"
      ]
     },
     "execution_count": 3,
     "metadata": {},
     "output_type": "execute_result"
    }
   ],
   "source": [
    "image = np.zeros((400,400), dtype= np.uint8) # creating a solid black image \n",
    "\n",
    "# cv2.line(image, (100,100) , (300, 300), color= 110, thickness=7) #color=(255,255,255) is not working because image is two dimensional image\n",
    "# cv2.rectangle(image,(100,100), (300,300), color= 255, thickness=5)\n",
    "cv2.circle(image,(200,200),100,color=250) # color and thikness are not required arguments\n",
    "\n",
    "# cv2.imshow('image',image)\n",
    "# cv2.waitKey(10)\n"
   ]
  },
  {
   "cell_type": "code",
   "execution_count": 12,
   "metadata": {},
   "outputs": [
    {
     "data": {
      "text/plain": [
       "7.0"
      ]
     },
     "execution_count": 12,
     "metadata": {},
     "output_type": "execute_result"
    }
   ],
   "source": [
    "def test(x:int , y:int) -> float:\n",
    "              z = x + y\n",
    "              return float(z)\n",
    "test(3,4)"
   ]
  },
  {
   "cell_type": "markdown",
   "metadata": {},
   "source": [
    "TEXT "
   ]
  },
  {
   "cell_type": "code",
   "execution_count": 3,
   "metadata": {},
   "outputs": [
    {
     "data": {
      "text/plain": [
       "array([[1, 1, 1, ..., 1, 1, 1],\n",
       "       [1, 1, 1, ..., 1, 1, 1],\n",
       "       [1, 1, 1, ..., 1, 1, 1],\n",
       "       ...,\n",
       "       [1, 1, 1, ..., 1, 1, 1],\n",
       "       [1, 1, 1, ..., 1, 1, 1],\n",
       "       [1, 1, 1, ..., 1, 1, 1]], shape=(400, 400), dtype=uint8)"
      ]
     },
     "execution_count": 3,
     "metadata": {},
     "output_type": "execute_result"
    }
   ],
   "source": [
    "image = np.ones((400,400),dtype = np.uint8) # this create new image every time \n",
    "cv2.putText(image, \"Hello\",(100,100), fontFace=cv2.FONT_HERSHEY_PLAIN,fontScale= 3, color= 255, thickness= 3 ) # this will write on the image over and over to tackle we need to clear last image or create a new one\n",
    "# cv2.imshow('image',image)\n",
    "# cv2.waitKey(10)\n",
    "# cv2.destroyAllWindows()"
   ]
  },
  {
   "cell_type": "markdown",
   "metadata": {},
   "source": [
    "OPERATORS (MANIPULATE IMAGES)\n",
    "* point operators (each pixel processed independently)\n",
    "* neighborhood operators ()"
   ]
  },
  {
   "cell_type": "code",
   "execution_count": 3,
   "metadata": {},
   "outputs": [],
   "source": [
    "# addition, substraction, multiplicaiton\n",
    "me = cv2.imread(\"Pic.jpeg\")\n",
    "\n",
    "# add\n",
    "me = cv2.add(me, 110) # changes all values \n",
    "me = cv2.add(me, 50) # make the image darker like instagram filters\n",
    "me = cv2.add(me[::2],110) #  only the last channel brighter\n",
    "\n",
    "# multiply\n",
    "me = cv2.multiply(me, np.ones(me.shape, dtype=np.uint8), scale= 1.5)  # np.zeros() it's only black colors and doesn't work\n",
    "\n",
    "# thresholding\n",
    "_, me = cv2.threshold(me,127, 255, cv2.THRESH_BINARY) # any pixel over 127 going to be 255\n",
    "\n",
    "# cv2.imshow('image',me)\n",
    "# cv2.waitKey(10)\n",
    "# cv2.destroyAllWindows()"
   ]
  },
  {
   "cell_type": "code",
   "execution_count": null,
   "metadata": {},
   "outputs": [],
   "source": [
    "# Linear Blend (blending(mixing) two images together)\n",
    "# should be the same size\n",
    "\n",
    "# example is in the slides in course notes\n"
   ]
  }
 ],
 "metadata": {
  "kernelspec": {
   "display_name": "virtualEnvPractice",
   "language": "python",
   "name": "python3"
  },
  "language_info": {
   "codemirror_mode": {
    "name": "ipython",
    "version": 3
   },
   "file_extension": ".py",
   "mimetype": "text/x-python",
   "name": "python",
   "nbconvert_exporter": "python",
   "pygments_lexer": "ipython3",
   "version": "3.10.0"
  }
 },
 "nbformat": 4,
 "nbformat_minor": 2
}
