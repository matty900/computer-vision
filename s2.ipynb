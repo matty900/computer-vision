{
 "cells": [
  {
   "cell_type": "code",
   "execution_count": null,
   "metadata": {},
   "outputs": [],
   "source": [
    "'''\n",
    "SESSIONS 2,  3, 4 \n",
    "Reading imaegs\n",
    "Saving images\n",
    "Showing images\n",
    "Channels\n",
    "numpy arrays\n",
    "Padding\n",
    "Video (webcam)\n",
    "Drawing shapes (line, circle, rectangle)\n",
    "Text\n",
    "'''"
   ]
  },
  {
   "cell_type": "code",
   "execution_count": 5,
   "metadata": {},
   "outputs": [],
   "source": [
    "import cv2\n",
    "import numpy as np"
   ]
  },
  {
   "cell_type": "code",
   "execution_count": 6,
   "metadata": {},
   "outputs": [
    {
     "data": {
      "text/plain": [
       "array([[0., 0., 0.],\n",
       "       [0., 0., 0.],\n",
       "       [0., 0., 0.],\n",
       "       [0., 0., 0.],\n",
       "       [0., 0., 0.],\n",
       "       [0., 0., 0.]])"
      ]
     },
     "execution_count": 6,
     "metadata": {},
     "output_type": "execute_result"
    }
   ],
   "source": [
    "np.zeros((6,3))"
   ]
  },
  {
   "cell_type": "markdown",
   "metadata": {},
   "source": [
    "Channels are 3 : means RGB(0,1,2)"
   ]
  },
  {
   "cell_type": "code",
   "execution_count": 7,
   "metadata": {},
   "outputs": [
    {
     "name": "stdout",
     "output_type": "stream",
     "text": [
      "[[[18 42 48]\n",
      "  [19 43 49]\n",
      "  [20 43 51]\n",
      "  ...\n",
      "  [ 5 17 27]\n",
      "  [ 5 15 25]\n",
      "  [ 5 15 25]]\n",
      "\n",
      " [[18 42 48]\n",
      "  [18 42 48]\n",
      "  [20 43 51]\n",
      "  ...\n",
      "  [ 7 19 29]\n",
      "  [ 6 18 28]\n",
      "  [ 7 17 27]]\n",
      "\n",
      " [[17 41 47]\n",
      "  [18 42 48]\n",
      "  [19 42 50]\n",
      "  ...\n",
      "  [ 9 21 31]\n",
      "  [ 8 20 30]\n",
      "  [ 7 19 29]]\n",
      "\n",
      " ...\n",
      "\n",
      " [[10 19 32]\n",
      "  [10 19 32]\n",
      "  [10 19 32]\n",
      "  ...\n",
      "  [ 8 27 35]\n",
      "  [ 8 27 35]\n",
      "  [ 8 27 35]]\n",
      "\n",
      " [[ 8 17 30]\n",
      "  [ 8 17 30]\n",
      "  [ 8 17 30]\n",
      "  ...\n",
      "  [ 7 26 34]\n",
      "  [ 7 26 34]\n",
      "  [ 7 26 34]]\n",
      "\n",
      " [[11 20 33]\n",
      "  [10 19 32]\n",
      "  [10 19 32]\n",
      "  ...\n",
      "  [ 7 26 34]\n",
      "  [ 7 26 34]\n",
      "  [ 7 26 34]]]\n"
     ]
    }
   ],
   "source": [
    "image = cv2.imread(\"Pic.jpeg\")\n",
    "print(image)"
   ]
  },
  {
   "cell_type": "code",
   "execution_count": null,
   "metadata": {},
   "outputs": [
    {
     "name": "stderr",
     "output_type": "stream",
     "text": [
      "2025-01-13 16:08:00.177 Python[48378:2261469] +[IMKClient subclass]: chose IMKClient_Legacy\n",
      "2025-01-13 16:08:00.177 Python[48378:2261469] +[IMKInputSession subclass]: chose IMKInputSession_Legacy\n"
     ]
    }
   ],
   "source": [
    "cv2.imshow(\"man\",image)\n",
    "cv2.waitKey(0)"
   ]
  },
  {
   "cell_type": "code",
   "execution_count": 8,
   "metadata": {},
   "outputs": [
    {
     "data": {
      "text/plain": [
       "(576, 576, 3)"
      ]
     },
     "execution_count": 8,
     "metadata": {},
     "output_type": "execute_result"
    }
   ],
   "source": [
    "image.shape  # h, w , c dimensions:  rows, columns, channels "
   ]
  },
  {
   "cell_type": "code",
   "execution_count": 9,
   "metadata": {},
   "outputs": [
    {
     "data": {
      "text/plain": [
       "(576, 576, 3)"
      ]
     },
     "execution_count": 9,
     "metadata": {},
     "output_type": "execute_result"
    }
   ],
   "source": [
    "image.shape # shape of the image          "
   ]
  },
  {
   "cell_type": "code",
   "execution_count": 10,
   "metadata": {},
   "outputs": [],
   "source": [
    "green_image = image[:,:,1] # all rows, all columns, and only first channel"
   ]
  },
  {
   "cell_type": "code",
   "execution_count": 13,
   "metadata": {},
   "outputs": [
    {
     "data": {
      "text/plain": [
       "array([[42, 43, 43, ..., 17, 15, 15],\n",
       "       [42, 42, 43, ..., 19, 18, 17],\n",
       "       [41, 42, 42, ..., 21, 20, 19],\n",
       "       ...,\n",
       "       [19, 19, 19, ..., 27, 27, 27],\n",
       "       [17, 17, 17, ..., 26, 26, 26],\n",
       "       [20, 19, 19, ..., 26, 26, 26]], shape=(576, 576), dtype=uint8)"
      ]
     },
     "execution_count": 13,
     "metadata": {},
     "output_type": "execute_result"
    }
   ],
   "source": [
    "green_image # there is no more third attribute for channels because it filtered in last cell"
   ]
  },
  {
   "cell_type": "code",
   "execution_count": null,
   "metadata": {},
   "outputs": [
    {
     "name": "stderr",
     "output_type": "stream",
     "text": [
      "2025-01-13 16:46:13.925 Python[48763:2282109] +[IMKClient subclass]: chose IMKClient_Legacy\n",
      "2025-01-13 16:46:13.925 Python[48763:2282109] +[IMKInputSession subclass]: chose IMKInputSession_Legacy\n"
     ]
    },
    {
     "ename": "SystemError",
     "evalue": "<built-in function destroyAllWindows> returned NULL without setting an exception",
     "output_type": "error",
     "traceback": [
      "\u001b[0;31m---------------------------------------------------------------------------\u001b[0m",
      "\u001b[0;31mSystemError\u001b[0m                               Traceback (most recent call last)",
      "Cell \u001b[0;32mIn[16], line 5\u001b[0m\n\u001b[1;32m      3\u001b[0m \u001b[38;5;66;03m# be black and white\u001b[39;00m\n\u001b[1;32m      4\u001b[0m cv2\u001b[38;5;241m.\u001b[39mwaitKey(\u001b[38;5;241m300\u001b[39m)\n\u001b[0;32m----> 5\u001b[0m \u001b[43mcv2\u001b[49m\u001b[38;5;241;43m.\u001b[39;49m\u001b[43mdestroyAllWindows\u001b[49m\u001b[43m(\u001b[49m\u001b[38;5;241;43m0\u001b[39;49m\u001b[43m)\u001b[49m\n",
      "\u001b[0;31mSystemError\u001b[0m: <built-in function destroyAllWindows> returned NULL without setting an exception"
     ]
    }
   ],
   "source": [
    "# SHOWING IMAGES\n",
    "cv2.imshow('green_image',green_image) # it should show the image in green but it shows in black & white (no matter which channel we chose it always  \n",
    "# be black and white\n",
    "cv2.waitKey(300)"
   ]
  },
  {
   "cell_type": "code",
   "execution_count": 15,
   "metadata": {},
   "outputs": [
    {
     "data": {
      "text/plain": [
       "True"
      ]
     },
     "execution_count": 15,
     "metadata": {},
     "output_type": "execute_result"
    }
   ],
   "source": [
    "# SAVING IMAGES\n",
    "cv2.imwrite(\"popo.jpg\",green_image)"
   ]
  },
  {
   "cell_type": "code",
   "execution_count": 17,
   "metadata": {},
   "outputs": [],
   "source": [
    "# cv2.destroyWindow()\n",
    "cv2.destroyAllWindows()  # destroy all windows to not allocate memory\n"
   ]
  },
  {
   "cell_type": "code",
   "execution_count": 22,
   "metadata": {},
   "outputs": [
    {
     "name": "stdout",
     "output_type": "stream",
     "text": [
      "(576, 576, 3)\n"
     ]
    }
   ],
   "source": [
    "#Slicing\n",
    "# assign to all of the channels to be black\n",
    "print(image.shape)\n",
    "image[10:500, 100:550, :] = 0"
   ]
  },
  {
   "cell_type": "markdown",
   "metadata": {},
   "source": [
    "NOTE: everything follows RGB but CV library follows BGR \n"
   ]
  }
 ],
 "metadata": {
  "kernelspec": {
   "display_name": "Python virtualEnvPractice",
   "language": "python",
   "name": "virtualenvpractice"
  },
  "language_info": {
   "codemirror_mode": {
    "name": "ipython",
    "version": 3
   },
   "file_extension": ".py",
   "mimetype": "text/x-python",
   "name": "python",
   "nbconvert_exporter": "python",
   "pygments_lexer": "ipython3",
   "version": "3.10.0"
  }
 },
 "nbformat": 4,
 "nbformat_minor": 2
}
