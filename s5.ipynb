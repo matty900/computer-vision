{
 "cells": [
  {
   "cell_type": "markdown",
   "metadata": {},
   "source": [
    "MATPLOTLIB\n",
    "\n",
    "Note: refer to the S5_Histogram.ipynb for code explanations"
   ]
  },
  {
   "cell_type": "code",
   "execution_count": null,
   "metadata": {},
   "outputs": [],
   "source": [
    "'''\n",
    "Histogram\n",
    "'''"
   ]
  },
  {
   "cell_type": "code",
   "execution_count": 2,
   "metadata": {},
   "outputs": [],
   "source": [
    "import cv2\n",
    "import numpy as np\n",
    "import matplotlib"
   ]
  },
  {
   "cell_type": "markdown",
   "metadata": {},
   "source": [
    "steps for image processing:\n",
    "1. faltten the image with    =>     image.ravel()    ALSO image.ravel().size\n",
    "2. plot the histogram        =>     plt.hist(image.ravel(), bins = 256, range = [0,255])\n",
    "3. show the plot             =>     plt.show()\n",
    "\n",
    "other way:\n",
    "colors = ('b','g','r')\n",
    "1. img_revel = [image [:,:,0], ravel(), image [:,:,1].ravel(), image[:,:,2].ravel()]  # flatten base on each color blue,red, green \n",
    "2. plt.hist(imag_ravel, color = colors, label = colors)\n",
    "3. plt.legend()  # show the legends for the images plt.legend(loc='lower right') # can personalize legend location\n",
    "4. plot.show()\n",
    "\n",
    "clacHist()\n"
   ]
  }
 ],
 "metadata": {
  "kernelspec": {
   "display_name": "virtualEnvPractice",
   "language": "python",
   "name": "python3"
  },
  "language_info": {
   "codemirror_mode": {
    "name": "ipython",
    "version": 3
   },
   "file_extension": ".py",
   "mimetype": "text/x-python",
   "name": "python",
   "nbconvert_exporter": "python",
   "pygments_lexer": "ipython3",
   "version": "3.10.0"
  }
 },
 "nbformat": 4,
 "nbformat_minor": 2
}
